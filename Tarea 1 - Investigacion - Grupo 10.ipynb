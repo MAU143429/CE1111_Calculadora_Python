{
 "cells": [
  {
   "cell_type": "markdown",
   "id": "3e4fc161",
   "metadata": {},
   "source": [
    "## Metodo de la biseccion"
   ]
  },
  {
   "cell_type": "code",
   "execution_count": 31,
   "id": "72b064eb",
   "metadata": {},
   "outputs": [],
   "source": [
    "function [xk, error, k, tiempo] = biseccion(a, b, func, tol, iterMax)\n",
    "% Aproximación del cero de la función `func` utilizando el método de la Bisección.\n",
    "%\n",
    "% Estructura de llamada: [xk, error, k, tiempo] = biseccion(a, b, func, tol, iterMax)\n",
    "%\n",
    "% Parámetros de entrada:\n",
    "%   a, b: Intervalo [a, b] donde se busca el cero.\n",
    "%   func: Función a la que se le aproxima el cero.\n",
    "%   tol: Tolerancia de aproximación.\n",
    "%   iterMax: Iteraciones máximas a realizar.\n",
    "%\n",
    "% Parámetros de salida:\n",
    "%   xk: Aproximación del cero.\n",
    "%   error: Error del método dado por |func(xk)|.\n",
    "%   k: Iteraciones realizadas.\n",
    "%   tiempo: Tiempo de ejecución en segundos.\n",
    "%\n",
    "% Ejemplo de uso:\n",
    "% [xk, error, k, tiempo] = biseccion(2, 3, '(x/(1+((x/10)-1)*exp(-2e-6*x*60)))-15000', 1e-10, 1000)\n",
    "\n",
    "pkg load symbolic; % Carga la biblioteca Symbolic de Octave para trabajar con expresiones simbólicas.\n",
    "fprintf('Metodo de la biseccion\\n');\n",
    "fprintf('Valores iniciales:\\n');\n",
    "fprintf('a= %.4f \\n', a);\n",
    "fprintf('b= %.4f \\n', b);\n",
    "% Iniciar el temporizador\n",
    "tic;\n",
    "\n",
    "% Convierte la cadena `func` en una función anónima evaluada numéricamente.\n",
    "f = str2func(['@(x)' func]);\n",
    "\n",
    "if f(a) * f(b) < 0\n",
    "    % Verifica si la función tiene un cambio de signo en el intervalo [a, b]. Si no, el método no se puede aplicar.\n",
    "\n",
    "    for k = 1:iterMax\n",
    "        % Calcula la próxima aproximación del cero utilizando el método de la bisección.\n",
    "        xk = (a + b) / 2;\n",
    "\n",
    "        if f(a) * f(xk) < 0\n",
    "            % Verifica si la función tiene un cambio de signo en el intervalo [a, xk]. Si es cierto, actualiza `b` con `xk`.\n",
    "            b = xk;\n",
    "        else\n",
    "            a = xk; % Si no hay cambio de signo, actualiza `a` con `xk`.\n",
    "        end\n",
    "\n",
    "        error = abs(f(xk)); % Calcula el error absoluto en la aproximación actual del cero.\n",
    "\n",
    "        if error < tol\n",
    "            break; % Si el error es menor que la tolerancia, sale del bucle.\n",
    "        end\n",
    "    end\n",
    "else\n",
    "    % Si no hay cambio de signo inicial en el intervalo [a, b], el método no se puede aplicar.\n",
    "    xk = 'N/A';\n",
    "    error = 'N/A';\n",
    "    k = 'N/A';\n",
    "    fprintf('No se cumple la condición de Bolzano con los datos dados\\n');\n",
    "end\n",
    "\n",
    "% Detener el temporizador y calcular el tiempo de ejecución en segundos\n",
    "tiempo = toc;\n",
    "\n",
    "% Imprimir los resultados\n",
    "\n",
    "\n",
    "fprintf('Tiempo de ejecución: %.4f segundos\\n', tiempo);\n",
    "\n",
    "end % Fin de la función biseccion.\n",
    "\n",
    "%[xk, error, k] = biseccion(60000, 70000, '(x/(1+((x/10)-1)*exp(-2e-6*x*60)))-15000', 1e-10, 100)"
   ]
  },
  {
   "cell_type": "markdown",
   "id": "4408f675",
   "metadata": {},
   "source": [
    "## Metodo de la falsa posicion"
   ]
  },
  {
   "cell_type": "code",
   "execution_count": 32,
   "id": "b217953b",
   "metadata": {},
   "outputs": [],
   "source": [
    "function [xk, error, k] = false_position(a, b, func, tol, iterMax)\n",
    "% La función false_position calcula una aproximación de una función utilizando el método de la falsa posición.\n",
    "% Argumentos de entrada:\n",
    "%   a: Punto inicial del intervalo.\n",
    "%   b: Punto final del intervalo.\n",
    "%   func: La función cuya raíz se desea encontrar en formato de cadena.\n",
    "%   tol: Tolerancia para detener el algoritmo cuando el error es menor que este valor.\n",
    "%   iterMax: Número máximo de iteraciones permitidas.\n",
    "% Argumentos de salida:\n",
    "%   xk: Aproximación de la raíz.\n",
    "%   error: Error absoluto en la aproximación de la raíz.\n",
    "%   k: Número de iteraciones realizadas.\n",
    "\n",
    "pkg load symbolic; % Carga la biblioteca Symbolic de Octave para trabajar con expresiones simbólicas.\n",
    "\n",
    "f = str2func(['@(x)' func]); % Convierte la cadena de la función en una función anónima evaluada numéricamente.\n",
    "fprintf('Metodo de la falsa posicion\\n');\n",
    "fprintf('Valores iniciales: \\n');\n",
    "fprintf('a= %.4f \\n', a);\n",
    "fprintf('b= %.4f \\n', b);\n",
    "% Iniciar el temporizador\n",
    "tic;\n",
    "\n",
    "if f(a) * f(b) < 0\n",
    "    % Verifica si la función tiene un cambio de signo en el intervalo [a, b]. Si no, el método no se puede aplicar.\n",
    "\n",
    "    for k = 1:iterMax % Inicia un bucle que iterará hasta alcanzar el número máximo de iteraciones especificado.\n",
    "\n",
    "        xk = b - (b - a) / (f(b) - f(a)) * f(b); % Calcula el próximo valor de xk utilizando el método de la falsa posición.\n",
    "\n",
    "        if f(a) * f(xk) < 0\n",
    "            % Verifica si la función tiene un cambio de signo en el intervalo [a, xk]. Si es cierto, actualiza b con xk.\n",
    "            b = xk;\n",
    "        else\n",
    "            a = xk; % Si no hay cambio de signo, actualiza a con xk.\n",
    "        end\n",
    "\n",
    "        error = abs(f(xk)); % Calcula el error absoluto en la aproximación actual de la raíz.\n",
    "\n",
    "        if error < tol\n",
    "            break; % Si el error es menor que la tolerancia, sale del bucle.\n",
    "        end\n",
    "\n",
    "    end % Fin del bucle for.\n",
    "\n",
    "else\n",
    "    % Si no hay cambio de signo inicial en el intervalo [a, b], el método no se puede aplicar.\n",
    "    xk = 'N/A';\n",
    "    error = 'N/A';\n",
    "    k = 'N/A';\n",
    "    fprintf('No cumple con el Teorema de Bolzano, por lo que no se puede resolver\\n');\n",
    "end\n",
    "\n",
    "% Detener el temporizador y calcular el tiempo de ejecución en segundos\n",
    "tiempo = toc;\n",
    "\n",
    "% Imprimir el tiempo de ejecución\n",
    "\n",
    "fprintf('Tiempo de ejecución: %.4f segundos\\n', tiempo);\n",
    "\n",
    "end % Fin de la función false_position.\n",
    "\n",
    "% Llama a la función false_position con los valores de entrada\n",
    "%[xk, error, k] = false_position(60000, 70000, '(x/(1+((x/10)-1)*exp(-2e-6*x*60)))-15000', 1e-10, 100);"
   ]
  },
  {
   "cell_type": "markdown",
   "id": "3753b21f",
   "metadata": {},
   "source": [
    "## Metodo Open-Newton"
   ]
  },
  {
   "cell_type": "code",
   "execution_count": 33,
   "id": "132b5703",
   "metadata": {},
   "outputs": [],
   "source": [
    "function [x_k, error, k, toc] = open_newton_method (f1, x0, tol, iterMax)\n",
    "  %\n",
    "  % Aproximacion del cero de la funcion func utilizando el metodo de open_newton\n",
    "  %\n",
    "  % Estructura: [x_k, error, k, toc] = open_newton_method (f1, x0, tol, iterMax)\n",
    "  %\n",
    "  % Parametros: f1 = funcion a la que se le aproxima el cero\n",
    "  %             x0 = valor inicial\n",
    "  %             tol = tolerancia de aproximacion\n",
    "  %             iterMax = iteraciones maximas a realizar\n",
    "  %             x_k = aproximacion del cero\n",
    "  %             error = error del metodo dado por |f1(xk)|\n",
    "  %             k = iteraciones realizadas\n",
    "  %             toc = tiempo de ejecucion\n",
    "  %1\n",
    "  % Ejemplo para el problema planteado:\n",
    "  %  [x_k, error, k, toc] = open_newton_method ('x/(1+((x/10)-1)*exp(-2e-6*x*60))-15000', 60000, 1e-8, 1000)\n",
    "\n",
    "\n",
    "  pkg load symbolic\n",
    "  fprintf('Metodo Neta_scott\\n');\n",
    "  fprintf('Valor inicial:a= %.4f \\n', x0);\n",
    "  f2 = sym(f1);\n",
    "  f = matlabFunction(f2);\n",
    "\n",
    "  % Calculo de la derivada de f(xk)\n",
    "  df = matlabFunction(diff(f2));\n",
    "\n",
    "  x_k = x0;\n",
    "\n",
    "  tic;\n",
    "\n",
    "  for k = 1 : iterMax\n",
    "    n = f(x_k);\n",
    "    d = df(x_k);\n",
    "    if abs(d) < tol  % condicion de parada |f'(xk)| menor a tol\n",
    "      break;\n",
    "    endif\n",
    "\n",
    "    z_k = x_k - n/d;\n",
    "\n",
    "    error = abs(f(x_k));\n",
    "    if error < tol\n",
    "      break;\n",
    "    endif\n",
    "\n",
    "    d1 = df((1/4)*(3*x_k + z_k));\n",
    "\n",
    "    d2 = df((1/2)*(z_k + x_k));\n",
    "\n",
    "    d3 = df((1/4)*(x_k + 3*z_k));\n",
    "\n",
    "    x_k_1 = x_k - ((1/(2*d1 - d2 + 2*d3))* 3*n); %Obtencion de Xk+1\n",
    "\n",
    "    x_k = x_k_1;\n",
    "\n",
    "  endfor\n",
    "  fprintf('Metodo Open-Newton\\n');\n",
    "  toc;\n",
    "endfunction"
   ]
  },
  {
   "cell_type": "markdown",
   "id": "df31444e",
   "metadata": {},
   "source": [
    "## Metodo Neta-Scott"
   ]
  },
  {
   "cell_type": "code",
   "execution_count": 34,
   "id": "44978091",
   "metadata": {},
   "outputs": [],
   "source": [
    "function [x_k, error, k, toc] = neta_scott_method (f1, x0, tol, iterMax)\n",
    "  %\n",
    "  % Aproximacion del cero de la funcion func utilizando el metodo de neta_scott\n",
    "  %\n",
    "  % Estructura: [x_k, error, k, toc] = neta_scott_method (f1, x0, tol, iterMax)\n",
    "  %\n",
    "  % Parametros: f1 = funcion a la que se le aproxima el cero\n",
    "  %             x0 = valor inicial\n",
    "  %             tol = tolerancia de aproximacion\n",
    "  %             iterMax = iteraciones maximas a realizar\n",
    "  %             x_k = aproximacion del cero\n",
    "  %             error = error del metodo dado por |f1(xk)|\n",
    "  %             k = iteraciones realizadas\n",
    "  %             toc = tiempo de ejecucion\n",
    "  %1\n",
    "  % Ejemplo para el problema planteado:\n",
    "  % [x_k, error, k, toc] = neta_scott_method ('x/(1+((x/10)-1)*exp(-2e-6*x*60))-15000', 60000, 1e-8, 1000)\n",
    "\n",
    "\n",
    "  pkg load symbolic\n",
    "  fprintf('Metodo Neta_scott\\n');\n",
    "  fprintf('Valor inicial:a= %.4f \\n', x0);\n",
    "  f2 = sym(f1);\n",
    "  f = matlabFunction(f2);\n",
    "  % Calculo de la derivada de f(xk)\n",
    "  df = matlabFunction(diff(f2));\n",
    "\n",
    "  df2 = matlabFunction(diff(diff(f2)));\n",
    "\n",
    "  x_k = x0;\n",
    "\n",
    "  A = 2;\n",
    "\n",
    "  tic;\n",
    "\n",
    "  for k = 1:iterMax\n",
    "    n = f(x_k);\n",
    "    d = df(x_k);\n",
    "    d2 = df2(x_k);\n",
    "\n",
    "    if abs(d) < tol\n",
    "      break;\n",
    "    endif\n",
    "    par1 = n/d;\n",
    "\n",
    "    error = abs(f(x_k));\n",
    "    if error < tol\n",
    "      break;\n",
    "    endif\n",
    "\n",
    "    x_k_1 = x_k - par1 - (1/(2*d^3 - A*n*d2))*(n^2*d2);\n",
    "\n",
    "    x_k = x_k_1;\n",
    "  endfor\n",
    "  \n",
    "  toc;\n",
    "\n",
    "endfunction"
   ]
  },
  {
   "cell_type": "markdown",
   "id": "e0ca6c7a",
   "metadata": {},
   "source": [
    "## Soluciones para el problema de crecimiento demografico"
   ]
  },
  {
   "cell_type": "code",
   "execution_count": 35,
   "id": "2855ca28",
   "metadata": {},
   "outputs": [
    {
     "name": "stdout",
     "output_type": "stream",
     "text": [
      "Metodo de la biseccion\n",
      "Valores iniciales:\n",
      "a= 60000.0000 \n",
      "b= 70000.0000 \n",
      "Tiempo de ejecución: 0.0016 segundos\n",
      "xk = 6.3200e+04\n",
      "error = 5.2751e-11\n",
      "k = 46\n"
     ]
    }
   ],
   "source": [
    "[xk, error, k] = biseccion(60000, 70000, '(x/(1+((x/10)-1)*exp(-2e-6*x*60)))-15000', 1e-10, 100)\n"
   ]
  },
  {
   "cell_type": "code",
   "execution_count": 36,
   "id": "889371d2",
   "metadata": {},
   "outputs": [
    {
     "name": "stdout",
     "output_type": "stream",
     "text": [
      "Metodo de la falsa posicion\n",
      "Valores iniciales: \n",
      "a= 60000.0000 \n",
      "b= 70000.0000 \n",
      "Tiempo de ejecución: 0.0011 segundos\n",
      "xk = 6.3200e+04\n",
      "error = 8.1855e-11\n",
      "k = 20\n"
     ]
    }
   ],
   "source": [
    "[xk, error, k] = false_position(60000, 70000, '(x/(1+((x/10)-1)*exp(-2e-6*x*60)))-15000', 1e-10, 100)\n"
   ]
  },
  {
   "cell_type": "code",
   "execution_count": 37,
   "id": "6cc69979",
   "metadata": {
    "scrolled": true
   },
   "outputs": [
    {
     "name": "stdout",
     "output_type": "stream",
     "text": [
      "Metodo Neta_scott\n",
      "Valor inicial:a= 60000.0000 \n",
      "Metodo Open-Newton\n",
      "Elapsed time is 0.000387907 seconds.\n",
      "x_k = 6.3200e+04\n",
      "error = 0\n",
      "k = 4\n",
      "toc = 3.9983e-04\n"
     ]
    }
   ],
   "source": [
    "[x_k, error, k, toc] = open_newton_method ('x/(1+((x/10)-1)*exp(-2e-6*x*60))-15000', 60000, 1e-8, 1000)\n"
   ]
  },
  {
   "cell_type": "code",
   "execution_count": 38,
   "id": "6275c9de",
   "metadata": {},
   "outputs": [
    {
     "name": "stdout",
     "output_type": "stream",
     "text": [
      "Metodo Neta_scott\n",
      "Valor inicial:a= 60000.0000 \n",
      "Elapsed time is 0.000365973 seconds.\n",
      "x_k = 6.3200e+04\n",
      "error = 1.0914e-11\n",
      "k = 4\n",
      "toc = 3.9005e-04\n"
     ]
    }
   ],
   "source": [
    "[x_k, error, k, toc] = neta_scott_method ('x/(1+((x/10)-1)*exp(-2e-6*x*60))-15000', 60000, 1e-8, 1000)"
   ]
  },
  {
   "cell_type": "code",
   "execution_count": null,
   "id": "539229cc",
   "metadata": {},
   "outputs": [],
   "source": []
  }
 ],
 "metadata": {
  "kernelspec": {
   "display_name": "Octave",
   "language": "octave",
   "name": "octave"
  },
  "language_info": {
   "file_extension": ".m",
   "help_links": [
    {
     "text": "GNU Octave",
     "url": "https://www.gnu.org/software/octave/support.html"
    },
    {
     "text": "Octave Kernel",
     "url": "https://github.com/Calysto/octave_kernel"
    },
    {
     "text": "MetaKernel Magics",
     "url": "https://metakernel.readthedocs.io/en/latest/source/README.html"
    }
   ],
   "mimetype": "text/x-octave",
   "name": "octave",
   "version": "8.2.0"
  }
 },
 "nbformat": 4,
 "nbformat_minor": 5
}
